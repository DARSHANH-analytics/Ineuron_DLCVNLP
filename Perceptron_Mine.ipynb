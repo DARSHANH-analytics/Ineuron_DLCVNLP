{
 "cells": [
  {
   "cell_type": "code",
   "execution_count": 1,
   "id": "b558127e",
   "metadata": {},
   "outputs": [],
   "source": [
    "import pandas as pd\n",
    "import numpy as np\n",
    "import os\n",
    "import joblib\n",
    "import matplotlib.pyplot as plt\n",
    "from matplotlib.colors import ListedColormap"
   ]
  },
  {
   "cell_type": "code",
   "execution_count": 2,
   "id": "4f85c626",
   "metadata": {},
   "outputs": [
    {
     "data": {
      "text/html": [
       "<div>\n",
       "<style scoped>\n",
       "    .dataframe tbody tr th:only-of-type {\n",
       "        vertical-align: middle;\n",
       "    }\n",
       "\n",
       "    .dataframe tbody tr th {\n",
       "        vertical-align: top;\n",
       "    }\n",
       "\n",
       "    .dataframe thead th {\n",
       "        text-align: right;\n",
       "    }\n",
       "</style>\n",
       "<table border=\"1\" class=\"dataframe\">\n",
       "  <thead>\n",
       "    <tr style=\"text-align: right;\">\n",
       "      <th></th>\n",
       "      <th>x1</th>\n",
       "      <th>x2</th>\n",
       "      <th>y</th>\n",
       "    </tr>\n",
       "  </thead>\n",
       "  <tbody>\n",
       "    <tr>\n",
       "      <th>0</th>\n",
       "      <td>0</td>\n",
       "      <td>0</td>\n",
       "      <td>0</td>\n",
       "    </tr>\n",
       "    <tr>\n",
       "      <th>1</th>\n",
       "      <td>0</td>\n",
       "      <td>1</td>\n",
       "      <td>0</td>\n",
       "    </tr>\n",
       "    <tr>\n",
       "      <th>2</th>\n",
       "      <td>1</td>\n",
       "      <td>0</td>\n",
       "      <td>0</td>\n",
       "    </tr>\n",
       "    <tr>\n",
       "      <th>3</th>\n",
       "      <td>1</td>\n",
       "      <td>1</td>\n",
       "      <td>1</td>\n",
       "    </tr>\n",
       "  </tbody>\n",
       "</table>\n",
       "</div>"
      ],
      "text/plain": [
       "   x1  x2  y\n",
       "0   0   0  0\n",
       "1   0   1  0\n",
       "2   1   0  0\n",
       "3   1   1  1"
      ]
     },
     "execution_count": 2,
     "metadata": {},
     "output_type": "execute_result"
    }
   ],
   "source": [
    "AND = {'x1':[0,0,1,1],\n",
    "      'x2':[0,1,0,1],\n",
    "      'y':[0,0,0,1]}\n",
    "dfand = pd.DataFrame(AND)\n",
    "dfand"
   ]
  },
  {
   "cell_type": "code",
   "execution_count": 257,
   "id": "c0ad6d94",
   "metadata": {},
   "outputs": [],
   "source": [
    "class perceptron:\n",
    "    def __init__(self,lr,epochs):\n",
    "        self.lr = lr\n",
    "        self.epochs = epochs\n",
    "                \n",
    "    def fit(self,x,y):\n",
    "        self.x = x\n",
    "        self.y = y\n",
    "        print('------inputs---------')\n",
    "        print(self.x)\n",
    "        #x_with_bias = np.concatenate([self.x,-np.ones((self.x.shape[0],1))],axis=1)\n",
    "        #x_with_bias = pd.concat([self.x,pd.Series(-np.ones(self.x.shape[0]))],axis=1)\n",
    "        x_with_bias = pd.concat([self.x,pd.Series(-np.ones(len(self.x)))],axis=1)\n",
    "        print('------x_with_bias---------')  \n",
    "        print(x_with_bias)\n",
    "        self.weights = np.random.randn(x_with_bias.shape[1])\n",
    "        print('------weights---------')\n",
    "        print(self.weights)\n",
    "        for e in range(self.epochs):\n",
    "            z = np.dot(x_with_bias,self.weights)\n",
    "            y_pred = np.where(z>0,1,0)\n",
    "            print('------y_pred---------')   \n",
    "            print(y_pred)\n",
    "            self.y_error = self.y - y_pred\n",
    "            print('------y_error---------')\n",
    "            print(self.y_error)\n",
    "            print('------x_with_bias.T---------Transforming to match the error matrix since column of first matrix to match \\\n",
    "the row of second matrix')\n",
    "            if min(self.y_error) == 0 and max(self.y_error) == 0 :\n",
    "                break;\n",
    "            print(x_with_bias.T)            \n",
    "            self.weights = self.weights + self.lr * np.dot(x_with_bias.T,self.y_error)\n",
    "            print(f\"updated weights after epoch:\\n{e} : \\n{self.weights}\")            \n",
    "    \n",
    "    def predict(self,x):\n",
    "        x_with_bias = np.concatenate([x,-np.ones((len(x),1))],axis=1)\n",
    "        z = np.dot(x_with_bias,self.weights)\n",
    "        return np.where(z>0,1,0)\n",
    "    \n",
    "    def total_loss(self):\n",
    "        total_loss = np.sum(self.y_error)\n",
    "        print(f\"total loss: {total_loss}\")\n",
    "        return total_loss"
   ]
  },
  {
   "cell_type": "code",
   "execution_count": 258,
   "id": "d9821142",
   "metadata": {},
   "outputs": [],
   "source": [
    "def prepare_data(df):\n",
    "  X = df.drop(\"y\", axis=1)\n",
    "\n",
    "  y = df[\"y\"]\n",
    "\n",
    "  return X, y"
   ]
  },
  {
   "cell_type": "code",
   "execution_count": 259,
   "id": "620a2b21",
   "metadata": {},
   "outputs": [
    {
     "name": "stdout",
     "output_type": "stream",
     "text": [
      "------inputs---------\n",
      "   x1  x2\n",
      "0   0   0\n",
      "1   0   1\n",
      "2   1   0\n",
      "3   1   1\n",
      "------x_with_bias---------\n",
      "   x1  x2    0\n",
      "0   0   0 -1.0\n",
      "1   0   1 -1.0\n",
      "2   1   0 -1.0\n",
      "3   1   1 -1.0\n",
      "------weights---------\n",
      "[-1.14685917  0.26586699 -0.21743317]\n",
      "------y_pred---------\n",
      "[1 1 0 0]\n",
      "------y_error---------\n",
      "0   -1\n",
      "1   -1\n",
      "2    0\n",
      "3    1\n",
      "Name: y, dtype: int64\n",
      "------x_with_bias.T---------Transforming to match the error matrix since column of first matrix to match the row of second matrix\n",
      "      0    1    2    3\n",
      "x1  0.0  0.0  1.0  1.0\n",
      "x2  0.0  1.0  0.0  1.0\n",
      "0  -1.0 -1.0 -1.0 -1.0\n",
      "updated weights after epoch:\n",
      "0 : \n",
      "[-0.84685917  0.26586699  0.08256683]\n",
      "------y_pred---------\n",
      "[0 1 0 0]\n",
      "------y_error---------\n",
      "0    0\n",
      "1   -1\n",
      "2    0\n",
      "3    1\n",
      "Name: y, dtype: int64\n",
      "------x_with_bias.T---------Transforming to match the error matrix since column of first matrix to match the row of second matrix\n",
      "      0    1    2    3\n",
      "x1  0.0  0.0  1.0  1.0\n",
      "x2  0.0  1.0  0.0  1.0\n",
      "0  -1.0 -1.0 -1.0 -1.0\n",
      "updated weights after epoch:\n",
      "1 : \n",
      "[-0.54685917  0.26586699  0.08256683]\n",
      "------y_pred---------\n",
      "[0 1 0 0]\n",
      "------y_error---------\n",
      "0    0\n",
      "1   -1\n",
      "2    0\n",
      "3    1\n",
      "Name: y, dtype: int64\n",
      "------x_with_bias.T---------Transforming to match the error matrix since column of first matrix to match the row of second matrix\n",
      "      0    1    2    3\n",
      "x1  0.0  0.0  1.0  1.0\n",
      "x2  0.0  1.0  0.0  1.0\n",
      "0  -1.0 -1.0 -1.0 -1.0\n",
      "updated weights after epoch:\n",
      "2 : \n",
      "[-0.24685917  0.26586699  0.08256683]\n",
      "------y_pred---------\n",
      "[0 1 0 0]\n",
      "------y_error---------\n",
      "0    0\n",
      "1   -1\n",
      "2    0\n",
      "3    1\n",
      "Name: y, dtype: int64\n",
      "------x_with_bias.T---------Transforming to match the error matrix since column of first matrix to match the row of second matrix\n",
      "      0    1    2    3\n",
      "x1  0.0  0.0  1.0  1.0\n",
      "x2  0.0  1.0  0.0  1.0\n",
      "0  -1.0 -1.0 -1.0 -1.0\n",
      "updated weights after epoch:\n",
      "3 : \n",
      "[0.05314083 0.26586699 0.08256683]\n",
      "------y_pred---------\n",
      "[0 1 0 1]\n",
      "------y_error---------\n",
      "0    0\n",
      "1   -1\n",
      "2    0\n",
      "3    0\n",
      "Name: y, dtype: int64\n",
      "------x_with_bias.T---------Transforming to match the error matrix since column of first matrix to match the row of second matrix\n",
      "      0    1    2    3\n",
      "x1  0.0  0.0  1.0  1.0\n",
      "x2  0.0  1.0  0.0  1.0\n",
      "0  -1.0 -1.0 -1.0 -1.0\n",
      "updated weights after epoch:\n",
      "4 : \n",
      "[ 0.05314083 -0.03413301  0.38256683]\n",
      "------y_pred---------\n",
      "[0 0 0 0]\n",
      "------y_error---------\n",
      "0    0\n",
      "1    0\n",
      "2    0\n",
      "3    1\n",
      "Name: y, dtype: int64\n",
      "------x_with_bias.T---------Transforming to match the error matrix since column of first matrix to match the row of second matrix\n",
      "      0    1    2    3\n",
      "x1  0.0  0.0  1.0  1.0\n",
      "x2  0.0  1.0  0.0  1.0\n",
      "0  -1.0 -1.0 -1.0 -1.0\n",
      "updated weights after epoch:\n",
      "5 : \n",
      "[0.35314083 0.26586699 0.08256683]\n",
      "------y_pred---------\n",
      "[0 1 1 1]\n",
      "------y_error---------\n",
      "0    0\n",
      "1   -1\n",
      "2   -1\n",
      "3    0\n",
      "Name: y, dtype: int64\n",
      "------x_with_bias.T---------Transforming to match the error matrix since column of first matrix to match the row of second matrix\n",
      "      0    1    2    3\n",
      "x1  0.0  0.0  1.0  1.0\n",
      "x2  0.0  1.0  0.0  1.0\n",
      "0  -1.0 -1.0 -1.0 -1.0\n",
      "updated weights after epoch:\n",
      "6 : \n",
      "[ 0.05314083 -0.03413301  0.68256683]\n",
      "------y_pred---------\n",
      "[0 0 0 0]\n",
      "------y_error---------\n",
      "0    0\n",
      "1    0\n",
      "2    0\n",
      "3    1\n",
      "Name: y, dtype: int64\n",
      "------x_with_bias.T---------Transforming to match the error matrix since column of first matrix to match the row of second matrix\n",
      "      0    1    2    3\n",
      "x1  0.0  0.0  1.0  1.0\n",
      "x2  0.0  1.0  0.0  1.0\n",
      "0  -1.0 -1.0 -1.0 -1.0\n",
      "updated weights after epoch:\n",
      "7 : \n",
      "[0.35314083 0.26586699 0.38256683]\n",
      "------y_pred---------\n",
      "[0 0 0 1]\n",
      "------y_error---------\n",
      "0    0\n",
      "1    0\n",
      "2    0\n",
      "3    0\n",
      "Name: y, dtype: int64\n",
      "------x_with_bias.T---------Transforming to match the error matrix since column of first matrix to match the row of second matrix\n",
      "total loss: 0\n"
     ]
    }
   ],
   "source": [
    "X,y = prepare_data(dfand)\n",
    "\n",
    "ETA = 0.3 # 0 and 1\n",
    "EPOCHS = 20\n",
    "\n",
    "model = perceptron(lr=ETA, epochs=EPOCHS)\n",
    "model.fit(X, y)\n",
    "\n",
    "_ = model.total_loss()\n"
   ]
  },
  {
   "cell_type": "code",
   "execution_count": 266,
   "id": "743d0f22",
   "metadata": {},
   "outputs": [
    {
     "data": {
      "text/plain": [
       "array([1, 0])"
      ]
     },
     "execution_count": 266,
     "metadata": {},
     "output_type": "execute_result"
    }
   ],
   "source": [
    "inputs = [[1,1],[0,0]]\n",
    "model.predict(inputs)"
   ]
  },
  {
   "cell_type": "code",
   "execution_count": 290,
   "id": "bcd3ff3f",
   "metadata": {},
   "outputs": [],
   "source": [
    "def save_model(model, filename):\n",
    "  model_dir = \"models\"\n",
    "  os.makedirs(model_dir, exist_ok=True) # ONLY CREATE IF MODEL_DIR DOESN\"T EXISTS\n",
    "  filePath = os.path.join(model_dir, filename) # model/filename\n",
    "  print(filePath)\n",
    "  joblib.dump(model, filePath)"
   ]
  },
  {
   "cell_type": "code",
   "execution_count": 291,
   "id": "c2316bff",
   "metadata": {},
   "outputs": [
    {
     "name": "stdout",
     "output_type": "stream",
     "text": [
      "models\\and.model\n"
     ]
    }
   ],
   "source": [
    "save_model(model, \"and.model\")"
   ]
  },
  {
   "cell_type": "code",
   "execution_count": 275,
   "id": "d6b4c75f",
   "metadata": {},
   "outputs": [
    {
     "data": {
      "text/plain": [
       "array([1, 0])"
      ]
     },
     "execution_count": 275,
     "metadata": {},
     "output_type": "execute_result"
    }
   ],
   "source": [
    "loaded_model = joblib.load(\"models/and.model\")\n",
    "loaded_model.predict(inputs)"
   ]
  },
  {
   "cell_type": "code",
   "execution_count": 292,
   "id": "32c390d4",
   "metadata": {},
   "outputs": [],
   "source": [
    "def save_plot(df, file_name, model):\n",
    "  def _create_base_plot(df):\n",
    "    df.plot(kind=\"scatter\", x=\"x1\", y=\"x2\", c=\"y\", s=100, cmap=\"winter\")\n",
    "    plt.axhline(y=0, color=\"black\", linestyle=\"--\", linewidth=1)\n",
    "    plt.axvline(x=0, color=\"black\", linestyle=\"--\", linewidth=1)\n",
    "    figure = plt.gcf() # get current figure\n",
    "    figure.set_size_inches(10, 8)\n",
    "\n",
    "  def _plot_decision_regions(X, y, classfier, resolution=0.02):\n",
    "    colors = (\"red\", \"blue\", \"lightgreen\", \"gray\", \"cyan\")\n",
    "    cmap = ListedColormap(colors[: len(np.unique(y))])\n",
    "\n",
    "    X = X.values # as a array\n",
    "    x1 = X[:, 0] \n",
    "    x2 = X[:, 1]\n",
    "    x1_min, x1_max = x1.min() -1 , x1.max() + 1\n",
    "    x2_min, x2_max = x2.min() -1 , x2.max() + 1  \n",
    "\n",
    "    xx1, xx2 = np.meshgrid(np.arange(x1_min, x1_max, resolution), \n",
    "                           np.arange(x2_min, x2_max, resolution))\n",
    "    print(xx1)\n",
    "    print(xx1.ravel())\n",
    "    Z = classfier.predict(np.array([xx1.ravel(), xx2.ravel()]).T)\n",
    "    Z = Z.reshape(xx1.shape)\n",
    "    plt.contourf(xx1, xx2, Z, alpha=0.2, cmap=cmap)\n",
    "    plt.xlim(xx1.min(), xx1.max())\n",
    "    plt.ylim(xx2.min(), xx2.max())\n",
    "\n",
    "    plt.plot()\n",
    "\n",
    "\n",
    "\n",
    "  X, y = prepare_data(df)\n",
    "\n",
    "  _create_base_plot(df)\n",
    "  _plot_decision_regions(X, y, model)\n",
    "\n",
    "  plot_dir = \"plots\"\n",
    "  os.makedirs(plot_dir, exist_ok=True) # ONLY CREATE IF MODEL_DIR DOESN\"T EXISTS\n",
    "  plotPath = os.path.join(plot_dir, file_name) # model/filename\n",
    "  plt.savefig(plotPath)"
   ]
  },
  {
   "cell_type": "code",
   "execution_count": 293,
   "id": "027e5329",
   "metadata": {},
   "outputs": [
    {
     "name": "stdout",
     "output_type": "stream",
     "text": [
      "[[-1.   -0.98 -0.96 ...  1.94  1.96  1.98]\n",
      " [-1.   -0.98 -0.96 ...  1.94  1.96  1.98]\n",
      " [-1.   -0.98 -0.96 ...  1.94  1.96  1.98]\n",
      " ...\n",
      " [-1.   -0.98 -0.96 ...  1.94  1.96  1.98]\n",
      " [-1.   -0.98 -0.96 ...  1.94  1.96  1.98]\n",
      " [-1.   -0.98 -0.96 ...  1.94  1.96  1.98]]\n",
      "[-1.   -0.98 -0.96 ...  1.94  1.96  1.98]\n"
     ]
    },
    {
     "data": {
      "image/png": "[encoded data removed]",
      "text/plain": [
       "<Figure size 720x576 with 2 Axes>"
      ]
     },
     "metadata": {
      "needs_background": "light"
     },
     "output_type": "display_data"
    }
   ],
   "source": [
    "save_plot(dfand, \"and.png\", model)"
   ]
  },
  {
   "cell_type": "code",
   "execution_count": null,
   "id": "f020b131",
   "metadata": {},
   "outputs": [],
   "source": []
  }
 ],
 "metadata": {
  "interpreter": {
   "hash": "187a61f75b4ab3e5c999cffb628ab71968b8aa3789083e6fdcd0dadbfecccf1d"
  },
  "kernelspec": {
   "display_name": "Python 3.7.9 64-bit ('base': conda)",
   "name": "python3"
  },
  "language_info": {
   "codemirror_mode": {
    "name": "ipython",
    "version": 3
   },
   "file_extension": ".py",
   "mimetype": "text/x-python",
   "name": "python",
   "nbconvert_exporter": "python",
   "pygments_lexer": "ipython3",
   "version": "3.7.9"
  }
 },
 "nbformat": 4,
 "nbformat_minor": 5
}
